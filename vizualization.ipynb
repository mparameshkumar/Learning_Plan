{
 "cells": [
  {
   "cell_type": "code",
   "execution_count": 4,
   "metadata": {},
   "outputs": [],
   "source": [
    "import seaborn as sns\n",
    "import matplotlib.pyplot as plt\n",
    "%matplotlib inline\n",
    "import pandas as pd\n",
    "import numpy as np\n",
    "%reload_ext autoreload\n",
    "%autoreload"
   ]
  },
  {
   "cell_type": "code",
   "execution_count": 5,
   "metadata": {},
   "outputs": [
    {
     "name": "stdout",
     "output_type": "stream",
     "text": [
      "['anagrams', 'anscombe', 'attention', 'brain_networks', 'car_crashes', 'diamonds', 'dots', 'dowjones', 'exercise', 'flights', 'fmri', 'geyser', 'glue', 'healthexp', 'iris', 'mpg', 'penguins', 'planets', 'seaice', 'taxis', 'tips', 'titanic']\n"
     ]
    }
   ],
   "source": [
    "print(sns.get_dataset_names())"
   ]
  },
  {
   "cell_type": "code",
   "execution_count": 6,
   "metadata": {},
   "outputs": [],
   "source": [
    "car_crashes = sns.load_dataset('car_crashes')"
   ]
  },
  {
   "cell_type": "code",
   "execution_count": 7,
   "metadata": {},
   "outputs": [
    {
     "data": {
      "text/html": [
       "<div>\n",
       "<style scoped>\n",
       "    .dataframe tbody tr th:only-of-type {\n",
       "        vertical-align: middle;\n",
       "    }\n",
       "\n",
       "    .dataframe tbody tr th {\n",
       "        vertical-align: top;\n",
       "    }\n",
       "\n",
       "    .dataframe thead th {\n",
       "        text-align: right;\n",
       "    }\n",
       "</style>\n",
       "<table border=\"1\" class=\"dataframe\">\n",
       "  <thead>\n",
       "    <tr style=\"text-align: right;\">\n",
       "      <th></th>\n",
       "      <th>total</th>\n",
       "      <th>speeding</th>\n",
       "      <th>alcohol</th>\n",
       "      <th>not_distracted</th>\n",
       "      <th>no_previous</th>\n",
       "      <th>ins_premium</th>\n",
       "      <th>ins_losses</th>\n",
       "      <th>abbrev</th>\n",
       "    </tr>\n",
       "  </thead>\n",
       "  <tbody>\n",
       "    <tr>\n",
       "      <th>0</th>\n",
       "      <td>18.8</td>\n",
       "      <td>7.332</td>\n",
       "      <td>5.640</td>\n",
       "      <td>18.048</td>\n",
       "      <td>15.040</td>\n",
       "      <td>784.55</td>\n",
       "      <td>145.08</td>\n",
       "      <td>AL</td>\n",
       "    </tr>\n",
       "    <tr>\n",
       "      <th>1</th>\n",
       "      <td>18.1</td>\n",
       "      <td>7.421</td>\n",
       "      <td>4.525</td>\n",
       "      <td>16.290</td>\n",
       "      <td>17.014</td>\n",
       "      <td>1053.48</td>\n",
       "      <td>133.93</td>\n",
       "      <td>AK</td>\n",
       "    </tr>\n",
       "    <tr>\n",
       "      <th>2</th>\n",
       "      <td>18.6</td>\n",
       "      <td>6.510</td>\n",
       "      <td>5.208</td>\n",
       "      <td>15.624</td>\n",
       "      <td>17.856</td>\n",
       "      <td>899.47</td>\n",
       "      <td>110.35</td>\n",
       "      <td>AZ</td>\n",
       "    </tr>\n",
       "    <tr>\n",
       "      <th>3</th>\n",
       "      <td>22.4</td>\n",
       "      <td>4.032</td>\n",
       "      <td>5.824</td>\n",
       "      <td>21.056</td>\n",
       "      <td>21.280</td>\n",
       "      <td>827.34</td>\n",
       "      <td>142.39</td>\n",
       "      <td>AR</td>\n",
       "    </tr>\n",
       "    <tr>\n",
       "      <th>4</th>\n",
       "      <td>12.0</td>\n",
       "      <td>4.200</td>\n",
       "      <td>3.360</td>\n",
       "      <td>10.920</td>\n",
       "      <td>10.680</td>\n",
       "      <td>878.41</td>\n",
       "      <td>165.63</td>\n",
       "      <td>CA</td>\n",
       "    </tr>\n",
       "  </tbody>\n",
       "</table>\n",
       "</div>"
      ],
      "text/plain": [
       "   total  speeding  alcohol  not_distracted  no_previous  ins_premium  \\\n",
       "0   18.8     7.332    5.640          18.048       15.040       784.55   \n",
       "1   18.1     7.421    4.525          16.290       17.014      1053.48   \n",
       "2   18.6     6.510    5.208          15.624       17.856       899.47   \n",
       "3   22.4     4.032    5.824          21.056       21.280       827.34   \n",
       "4   12.0     4.200    3.360          10.920       10.680       878.41   \n",
       "\n",
       "   ins_losses abbrev  \n",
       "0      145.08     AL  \n",
       "1      133.93     AK  \n",
       "2      110.35     AZ  \n",
       "3      142.39     AR  \n",
       "4      165.63     CA  "
      ]
     },
     "execution_count": 7,
     "metadata": {},
     "output_type": "execute_result"
    }
   ],
   "source": [
    "car_crashes.head()"
   ]
  },
  {
   "cell_type": "code",
   "execution_count": 8,
   "metadata": {},
   "outputs": [
    {
     "name": "stdout",
     "output_type": "stream",
     "text": [
      "    total  speeding  alcohol  not_distracted  no_previous  ins_premium  \\\n",
      "0    18.8     7.332    5.640          18.048       15.040       784.55   \n",
      "1    18.1     7.421    4.525          16.290       17.014      1053.48   \n",
      "2    18.6     6.510    5.208          15.624       17.856       899.47   \n",
      "3    22.4     4.032    5.824          21.056       21.280       827.34   \n",
      "4    12.0     4.200    3.360          10.920       10.680       878.41   \n",
      "5    13.6     5.032    3.808          10.744       12.920       835.50   \n",
      "6    10.8     4.968    3.888           9.396        8.856      1068.73   \n",
      "7    16.2     6.156    4.860          14.094       16.038      1137.87   \n",
      "8     5.9     2.006    1.593           5.900        5.900      1273.89   \n",
      "9    17.9     3.759    5.191          16.468       16.826      1160.13   \n",
      "10   15.6     2.964    3.900          14.820       14.508       913.15   \n",
      "11   17.5     9.450    7.175          14.350       15.225       861.18   \n",
      "12   15.3     5.508    4.437          13.005       14.994       641.96   \n",
      "13   12.8     4.608    4.352          12.032       12.288       803.11   \n",
      "14   14.5     3.625    4.205          13.775       13.775       710.46   \n",
      "15   15.7     2.669    3.925          15.229       13.659       649.06   \n",
      "16   17.8     4.806    4.272          13.706       15.130       780.45   \n",
      "17   21.4     4.066    4.922          16.692       16.264       872.51   \n",
      "18   20.5     7.175    6.765          14.965       20.090      1281.55   \n",
      "19   15.1     5.738    4.530          13.137       12.684       661.88   \n",
      "20   12.5     4.250    4.000           8.875       12.375      1048.78   \n",
      "21    8.2     1.886    2.870           7.134        6.560      1011.14   \n",
      "22   14.1     3.384    3.948          13.395       10.857      1110.61   \n",
      "23    9.6     2.208    2.784           8.448        8.448       777.18   \n",
      "24   17.6     2.640    5.456           1.760       17.600       896.07   \n",
      "25   16.1     6.923    5.474          14.812       13.524       790.32   \n",
      "26   21.4     8.346    9.416          17.976       18.190       816.21   \n",
      "27   14.9     1.937    5.215          13.857       13.410       732.28   \n",
      "28   14.7     5.439    4.704          13.965       14.553      1029.87   \n",
      "29   11.6     4.060    3.480          10.092        9.628       746.54   \n",
      "30   11.2     1.792    3.136           9.632        8.736      1301.52   \n",
      "31   18.4     3.496    4.968          12.328       18.032       869.85   \n",
      "32   12.3     3.936    3.567          10.824        9.840      1234.31   \n",
      "33   16.8     6.552    5.208          15.792       13.608       708.24   \n",
      "34   23.9     5.497   10.038          23.661       20.554       688.75   \n",
      "35   14.1     3.948    4.794          13.959       11.562       697.73   \n",
      "36   19.9     6.368    5.771          18.308       18.706       881.51   \n",
      "37   12.8     4.224    3.328           8.576       11.520       804.71   \n",
      "38   18.2     9.100    5.642          17.472       16.016       905.99   \n",
      "39   11.1     3.774    4.218          10.212        8.769      1148.99   \n",
      "40   23.9     9.082    9.799          22.944       19.359       858.97   \n",
      "41   19.4     6.014    6.402          19.012       16.684       669.31   \n",
      "42   19.5     4.095    5.655          15.990       15.795       767.91   \n",
      "43   19.4     7.760    7.372          17.654       16.878      1004.75   \n",
      "44   11.3     4.859    1.808           9.944       10.848       809.38   \n",
      "45   13.6     4.080    4.080          13.056       12.920       716.20   \n",
      "46   12.7     2.413    3.429          11.049       11.176       768.95   \n",
      "47   10.6     4.452    3.498           8.692        9.116       890.03   \n",
      "48   23.8     8.092    6.664          23.086       20.706       992.61   \n",
      "49   13.8     4.968    4.554           5.382       11.592       670.31   \n",
      "50   17.4     7.308    5.568          14.094       15.660       791.14   \n",
      "\n",
      "    ins_losses abbrev  \n",
      "0       145.08     AL  \n",
      "1       133.93     AK  \n",
      "2       110.35     AZ  \n",
      "3       142.39     AR  \n",
      "4       165.63     CA  \n",
      "5       139.91     CO  \n",
      "6       167.02     CT  \n",
      "7       151.48     DE  \n",
      "8       136.05     DC  \n",
      "9       144.18     FL  \n",
      "10      142.80     GA  \n",
      "11      120.92     HI  \n",
      "12       82.75     ID  \n",
      "13      139.15     IL  \n",
      "14      108.92     IN  \n",
      "15      114.47     IA  \n",
      "16      133.80     KS  \n",
      "17      137.13     KY  \n",
      "18      194.78     LA  \n",
      "19       96.57     ME  \n",
      "20      192.70     MD  \n",
      "21      135.63     MA  \n",
      "22      152.26     MI  \n",
      "23      133.35     MN  \n",
      "24      155.77     MS  \n",
      "25      144.45     MO  \n",
      "26       85.15     MT  \n",
      "27      114.82     NE  \n",
      "28      138.71     NV  \n",
      "29      120.21     NH  \n",
      "30      159.85     NJ  \n",
      "31      120.75     NM  \n",
      "32      150.01     NY  \n",
      "33      127.82     NC  \n",
      "34      109.72     ND  \n",
      "35      133.52     OH  \n",
      "36      178.86     OK  \n",
      "37      104.61     OR  \n",
      "38      153.86     PA  \n",
      "39      148.58     RI  \n",
      "40      116.29     SC  \n",
      "41       96.87     SD  \n",
      "42      155.57     TN  \n",
      "43      156.83     TX  \n",
      "44      109.48     UT  \n",
      "45      109.61     VT  \n",
      "46      153.72     VA  \n",
      "47      111.62     WA  \n",
      "48      152.56     WV  \n",
      "49      106.62     WI  \n",
      "50      122.04     WY  \n"
     ]
    }
   ],
   "source": [
    "print(car_crashes)"
   ]
  },
  {
   "cell_type": "markdown",
   "metadata": {},
   "source": [
    "Distribution Plot"
   ]
  },
  {
   "cell_type": "code",
   "execution_count": 12,
   "metadata": {},
   "outputs": [
    {
     "name": "stderr",
     "output_type": "stream",
     "text": [
      "C:\\Users\\M.PARAMESH KUMAR\\AppData\\Local\\Temp\\ipykernel_4820\\2544968687.py:1: UserWarning: \n",
      "\n",
      "`distplot` is a deprecated function and will be removed in seaborn v0.14.0.\n",
      "\n",
      "Please adapt your code to use either `displot` (a figure-level function with\n",
      "similar flexibility) or `histplot` (an axes-level function for histograms).\n",
      "\n",
      "For a guide to updating your code to use the new functions, please see\n",
      "https://gist.github.com/mwaskom/de44147ed2974457ad6372750bbe5751\n",
      "\n",
      "  sns.distplot(car_crashes['not_distracted'],kde = False,bins = 25)\n"
     ]
    },
    {
     "data": {
      "text/plain": [
       "<Axes: xlabel='not_distracted'>"
      ]
     },
     "execution_count": 12,
     "metadata": {},
     "output_type": "execute_result"
    },
    {
     "data": {
      "image/png": "[encoded data removed]",
      "text/plain": [
       "<Figure size 640x480 with 1 Axes>"
      ]
     },
     "metadata": {},
     "output_type": "display_data"
    }
   ],
   "source": [
    "sns.distplot(car_crashes['not_distracted'],kde = False,bins = 25)"
   ]
  },
  {
   "cell_type": "markdown",
   "metadata": {},
   "source": [
    "Joint Plot"
   ]
  },
  {
   "cell_type": "code",
   "execution_count": 14,
   "metadata": {},
   "outputs": [
    {
     "data": {
      "text/plain": [
       "<seaborn.axisgrid.JointGrid at 0x27c484dee90>"
      ]
     },
     "execution_count": 14,
     "metadata": {},
     "output_type": "execute_result"
    },
    {
     "data": {
      "image/png": "[encoded data removed]",
      "text/plain": [
       "<Figure size 600x600 with 3 Axes>"
      ]
     },
     "metadata": {},
     "output_type": "display_data"
    }
   ],
   "source": [
    "sns.jointplot(x='speeding',y='alcohol',data=car_crashes,kind='hex')"
   ]
  },
  {
   "cell_type": "markdown",
   "metadata": {},
   "source": [
    "KDE PLODT"
   ]
  },
  {
   "cell_type": "code",
   "execution_count": null,
   "metadata": {},
   "outputs": [
    {
     "ename": "TypeError",
     "evalue": "'DataFrame' object is not callable",
     "output_type": "error",
     "traceback": [
      "\u001b[31m---------------------------------------------------------------------------\u001b[39m",
      "\u001b[31mTypeError\u001b[39m                                 Traceback (most recent call last)",
      "\u001b[36mCell\u001b[39m\u001b[36m \u001b[39m\u001b[32mIn[21]\u001b[39m\u001b[32m, line 1\u001b[39m\n\u001b[32m----> \u001b[39m\u001b[32m1\u001b[39m sns.kdeplot(\u001b[43mcar_crashes\u001b[49m\u001b[43m(\u001b[49m\u001b[43m[\u001b[49m\u001b[33;43m'\u001b[39;49m\u001b[33;43malcohol\u001b[39;49m\u001b[33;43m'\u001b[39;49m\u001b[43m]\u001b[49m\u001b[43m)\u001b[49m)\n",
      "\u001b[31mTypeError\u001b[39m: 'DataFrame' object is not callable"
     ]
    }
   ],
   "source": [
    "sns.kdeplot(car_crashes['alcohol'])"
   ]
  },
  {
   "cell_type": "code",
   "execution_count": null,
   "metadata": {},
   "outputs": [],
   "source": []
  }
 ],
 "metadata": {
  "kernelspec": {
   "display_name": ".venv",
   "language": "python",
   "name": "python3"
  },
  "language_info": {
   "codemirror_mode": {
    "name": "ipython",
    "version": 3
   },
   "file_extension": ".py",
   "mimetype": "text/x-python",
   "name": "python",
   "nbconvert_exporter": "python",
   "pygments_lexer": "ipython3",
   "version": "3.11.7"
  }
 },
 "nbformat": 4,
 "nbformat_minor": 2
}
